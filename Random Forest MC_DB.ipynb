{
 "cells": [
  {
   "cell_type": "code",
   "execution_count": null,
   "metadata": {},
   "outputs": [],
   "source": [
    "# predicting log cm values for MC_DB by training on 80% of MC_DB"
   ]
  },
  {
   "cell_type": "code",
   "execution_count": 32,
   "metadata": {},
   "outputs": [],
   "source": [
    "# Import libraries\n",
    "import pandas as pd\n",
    "import numpy as np\n",
    "from sklearn.metrics import mean_absolute_error\n",
    "from sklearn.utils import shuffle "
   ]
  },
  {
   "cell_type": "code",
   "execution_count": 33,
   "metadata": {},
   "outputs": [],
   "source": [
    "# Read dataset\n",
    "dataset = pd.read_csv('df_modred_new_chems.csv')\n",
    "dataset = dataset.select_dtypes([np.number]) # only select numerical columns for x and y values "
   ]
  },
  {
   "cell_type": "code",
   "execution_count": 34,
   "metadata": {},
   "outputs": [
    {
     "data": {
      "text/html": [
       "<div>\n",
       "<style scoped>\n",
       "    .dataframe tbody tr th:only-of-type {\n",
       "        vertical-align: middle;\n",
       "    }\n",
       "\n",
       "    .dataframe tbody tr th {\n",
       "        vertical-align: top;\n",
       "    }\n",
       "\n",
       "    .dataframe thead th {\n",
       "        text-align: right;\n",
       "    }\n",
       "</style>\n",
       "<table border=\"1\" class=\"dataframe\">\n",
       "  <thead>\n",
       "    <tr style=\"text-align: right;\">\n",
       "      <th></th>\n",
       "      <th>OCTANOL_WATER_PARTITION_LOGP_OPERA_PRED</th>\n",
       "      <th>C:M Ratio Master</th>\n",
       "      <th>C:M Ratio Lipid Normalized</th>\n",
       "      <th>Log C:M Ratio Lipid Normalized</th>\n",
       "      <th>C:M Ratio Non-Lipid Normalized</th>\n",
       "      <th>Log C:M Ratio Non-Lipid Normalized</th>\n",
       "      <th># Total Atoms</th>\n",
       "      <th># Atoms w/o Salt</th>\n",
       "      <th>ABC</th>\n",
       "      <th>ABCGG</th>\n",
       "      <th>...</th>\n",
       "      <th>SRW10</th>\n",
       "      <th>TSRW10</th>\n",
       "      <th>MW</th>\n",
       "      <th>AMW</th>\n",
       "      <th>WPath</th>\n",
       "      <th>WPol</th>\n",
       "      <th>Zagreb1</th>\n",
       "      <th>Zagreb2</th>\n",
       "      <th>mZagreb1</th>\n",
       "      <th>mZagreb2</th>\n",
       "    </tr>\n",
       "  </thead>\n",
       "  <tbody>\n",
       "    <tr>\n",
       "      <th>0</th>\n",
       "      <td>3.86903</td>\n",
       "      <td>0.710000</td>\n",
       "      <td>2.257800</td>\n",
       "      <td>0.353685</td>\n",
       "      <td>0.710000</td>\n",
       "      <td>-0.148742</td>\n",
       "      <td>20.0</td>\n",
       "      <td>20.0</td>\n",
       "      <td>15.234431</td>\n",
       "      <td>12.462543</td>\n",
       "      <td>...</td>\n",
       "      <td>9.768984</td>\n",
       "      <td>53.323569</td>\n",
       "      <td>268.157563</td>\n",
       "      <td>6.703939</td>\n",
       "      <td>899</td>\n",
       "      <td>30</td>\n",
       "      <td>100</td>\n",
       "      <td>115</td>\n",
       "      <td>7.777778</td>\n",
       "      <td>4.444444</td>\n",
       "    </tr>\n",
       "    <tr>\n",
       "      <th>1</th>\n",
       "      <td>2.98359</td>\n",
       "      <td>0.923077</td>\n",
       "      <td>2.935385</td>\n",
       "      <td>0.467665</td>\n",
       "      <td>0.923077</td>\n",
       "      <td>-0.034762</td>\n",
       "      <td>14.0</td>\n",
       "      <td>14.0</td>\n",
       "      <td>10.146784</td>\n",
       "      <td>9.272626</td>\n",
       "      <td>...</td>\n",
       "      <td>9.182866</td>\n",
       "      <td>44.834790</td>\n",
       "      <td>193.110279</td>\n",
       "      <td>6.658975</td>\n",
       "      <td>331</td>\n",
       "      <td>18</td>\n",
       "      <td>64</td>\n",
       "      <td>71</td>\n",
       "      <td>5.944444</td>\n",
       "      <td>3.305556</td>\n",
       "    </tr>\n",
       "    <tr>\n",
       "      <th>2</th>\n",
       "      <td>3.86294</td>\n",
       "      <td>1.062500</td>\n",
       "      <td>3.378750</td>\n",
       "      <td>0.528756</td>\n",
       "      <td>1.062500</td>\n",
       "      <td>0.026329</td>\n",
       "      <td>20.0</td>\n",
       "      <td>20.0</td>\n",
       "      <td>14.389425</td>\n",
       "      <td>12.507389</td>\n",
       "      <td>...</td>\n",
       "      <td>9.435163</td>\n",
       "      <td>52.355966</td>\n",
       "      <td>277.204179</td>\n",
       "      <td>5.897961</td>\n",
       "      <td>970</td>\n",
       "      <td>26</td>\n",
       "      <td>90</td>\n",
       "      <td>99</td>\n",
       "      <td>8.055556</td>\n",
       "      <td>4.805556</td>\n",
       "    </tr>\n",
       "    <tr>\n",
       "      <th>3</th>\n",
       "      <td>3.93021</td>\n",
       "      <td>11.888889</td>\n",
       "      <td>37.806667</td>\n",
       "      <td>1.577568</td>\n",
       "      <td>11.888889</td>\n",
       "      <td>1.075141</td>\n",
       "      <td>24.0</td>\n",
       "      <td>24.0</td>\n",
       "      <td>17.625299</td>\n",
       "      <td>14.440378</td>\n",
       "      <td>...</td>\n",
       "      <td>9.913982</td>\n",
       "      <td>58.055175</td>\n",
       "      <td>324.220163</td>\n",
       "      <td>6.235003</td>\n",
       "      <td>1535</td>\n",
       "      <td>38</td>\n",
       "      <td>116</td>\n",
       "      <td>135</td>\n",
       "      <td>8.777778</td>\n",
       "      <td>5.777778</td>\n",
       "    </tr>\n",
       "    <tr>\n",
       "      <th>4</th>\n",
       "      <td>1.85996</td>\n",
       "      <td>56.275862</td>\n",
       "      <td>178.957241</td>\n",
       "      <td>2.252749</td>\n",
       "      <td>56.275862</td>\n",
       "      <td>1.750322</td>\n",
       "      <td>12.0</td>\n",
       "      <td>12.0</td>\n",
       "      <td>8.663621</td>\n",
       "      <td>8.064700</td>\n",
       "      <td>...</td>\n",
       "      <td>8.952217</td>\n",
       "      <td>41.876660</td>\n",
       "      <td>165.078979</td>\n",
       "      <td>7.177347</td>\n",
       "      <td>211</td>\n",
       "      <td>14</td>\n",
       "      <td>54</td>\n",
       "      <td>59</td>\n",
       "      <td>4.833333</td>\n",
       "      <td>2.861111</td>\n",
       "    </tr>\n",
       "  </tbody>\n",
       "</table>\n",
       "<p>5 rows × 1133 columns</p>\n",
       "</div>"
      ],
      "text/plain": [
       "   OCTANOL_WATER_PARTITION_LOGP_OPERA_PRED  C:M Ratio Master  \\\n",
       "0                                  3.86903          0.710000   \n",
       "1                                  2.98359          0.923077   \n",
       "2                                  3.86294          1.062500   \n",
       "3                                  3.93021         11.888889   \n",
       "4                                  1.85996         56.275862   \n",
       "\n",
       "   C:M Ratio Lipid Normalized  Log C:M Ratio Lipid Normalized  \\\n",
       "0                    2.257800                        0.353685   \n",
       "1                    2.935385                        0.467665   \n",
       "2                    3.378750                        0.528756   \n",
       "3                   37.806667                        1.577568   \n",
       "4                  178.957241                        2.252749   \n",
       "\n",
       "   C:M Ratio Non-Lipid Normalized  Log C:M Ratio Non-Lipid Normalized  \\\n",
       "0                        0.710000                           -0.148742   \n",
       "1                        0.923077                           -0.034762   \n",
       "2                        1.062500                            0.026329   \n",
       "3                       11.888889                            1.075141   \n",
       "4                       56.275862                            1.750322   \n",
       "\n",
       "   # Total Atoms  # Atoms w/o Salt        ABC      ABCGG  ...     SRW10  \\\n",
       "0           20.0              20.0  15.234431  12.462543  ...  9.768984   \n",
       "1           14.0              14.0  10.146784   9.272626  ...  9.182866   \n",
       "2           20.0              20.0  14.389425  12.507389  ...  9.435163   \n",
       "3           24.0              24.0  17.625299  14.440378  ...  9.913982   \n",
       "4           12.0              12.0   8.663621   8.064700  ...  8.952217   \n",
       "\n",
       "      TSRW10          MW       AMW  WPath  WPol  Zagreb1  Zagreb2  mZagreb1  \\\n",
       "0  53.323569  268.157563  6.703939    899    30      100      115  7.777778   \n",
       "1  44.834790  193.110279  6.658975    331    18       64       71  5.944444   \n",
       "2  52.355966  277.204179  5.897961    970    26       90       99  8.055556   \n",
       "3  58.055175  324.220163  6.235003   1535    38      116      135  8.777778   \n",
       "4  41.876660  165.078979  7.177347    211    14       54       59  4.833333   \n",
       "\n",
       "   mZagreb2  \n",
       "0  4.444444  \n",
       "1  3.305556  \n",
       "2  4.805556  \n",
       "3  5.777778  \n",
       "4  2.861111  \n",
       "\n",
       "[5 rows x 1133 columns]"
      ]
     },
     "execution_count": 34,
     "metadata": {},
     "output_type": "execute_result"
    }
   ],
   "source": [
    "dataset.head()"
   ]
  },
  {
   "cell_type": "code",
   "execution_count": 35,
   "metadata": {},
   "outputs": [],
   "source": [
    "# drop values that have 0 as the ratio\n",
    "dataset = dataset[dataset['C:M Ratio Lipid Normalized'] != 0]"
   ]
  },
  {
   "cell_type": "code",
   "execution_count": 36,
   "metadata": {},
   "outputs": [],
   "source": [
    "dataset['C:M Ratio Lipid Normalized'] = dataset['C:M Ratio Lipid Normalized'].replace(0, 0.01)\n",
    "dataset['logCM'] = np.log10(dataset['C:M Ratio Lipid Normalized'])"
   ]
  },
  {
   "cell_type": "code",
   "execution_count": 37,
   "metadata": {},
   "outputs": [],
   "source": [
    "dataset['logCM_non_adjusted'] = np.log10(dataset['C:M Ratio Non-Lipid Normalized'])"
   ]
  },
  {
   "cell_type": "code",
   "execution_count": 38,
   "metadata": {},
   "outputs": [
    {
     "data": {
      "text/plain": [
       "(264, 1135)"
      ]
     },
     "execution_count": 38,
     "metadata": {},
     "output_type": "execute_result"
    }
   ],
   "source": [
    "dataset.shape"
   ]
  },
  {
   "cell_type": "code",
   "execution_count": 39,
   "metadata": {
    "scrolled": true
   },
   "outputs": [
    {
     "data": {
      "text/plain": [
       "Index(['OCTANOL_WATER_PARTITION_LOGP_OPERA_PRED', 'C:M Ratio Master',\n",
       "       'C:M Ratio Lipid Normalized', 'Log C:M Ratio Lipid Normalized',\n",
       "       'C:M Ratio Non-Lipid Normalized', 'Log C:M Ratio Non-Lipid Normalized',\n",
       "       '# Total Atoms', '# Atoms w/o Salt', 'ABC', 'ABCGG',\n",
       "       ...\n",
       "       'MW', 'AMW', 'WPath', 'WPol', 'Zagreb1', 'Zagreb2', 'mZagreb1',\n",
       "       'mZagreb2', 'logCM', 'logCM_non_adjusted'],\n",
       "      dtype='object', length=1135)"
      ]
     },
     "execution_count": 39,
     "metadata": {},
     "output_type": "execute_result"
    }
   ],
   "source": [
    "dataset.columns"
   ]
  },
  {
   "cell_type": "code",
   "execution_count": 40,
   "metadata": {},
   "outputs": [],
   "source": [
    "# designate x and y values for the model \n",
    "X = dataset.loc[:, 'ABC':'mZagreb2'].values\n",
    "y = dataset.loc[:, 'logCM_non_adjusted'].values"
   ]
  },
  {
   "cell_type": "code",
   "execution_count": 41,
   "metadata": {},
   "outputs": [
    {
     "data": {
      "text/plain": [
       "(264,)"
      ]
     },
     "execution_count": 41,
     "metadata": {},
     "output_type": "execute_result"
    }
   ],
   "source": [
    "y.shape"
   ]
  },
  {
   "cell_type": "code",
   "execution_count": 42,
   "metadata": {},
   "outputs": [],
   "source": [
    "from sklearn.model_selection import train_test_split\n",
    "from sklearn.preprocessing import StandardScaler\n",
    "from sklearn.ensemble import RandomForestRegressor\n",
    "\n",
    "\n",
    "for i in range(25):\n",
    "    # y-randomization - use only in y-randomization analysis\n",
    "    #y = shuffle(y, random_state=4)\n",
    "    # Split dataset into training and testing datasets\n",
    "    X_train, X_test, y_train, y_test = train_test_split(X, y, test_size=0.2, random_state=None)\n",
    "    \n",
    "    # Normalize data\n",
    "    sc = StandardScaler()\n",
    "    X_train = sc.fit_transform(X_train)\n",
    "    X_test = sc.transform(X_test)\n",
    "\n",
    "    # Compile RF regressor\n",
    "    regressor = RandomForestRegressor(n_estimators= 100, bootstrap = True, \n",
    "                                      max_depth = 30, max_features = 'sqrt',\n",
    "                                      min_samples_leaf = 1, min_samples_split = 2)\n",
    "    regressor.fit(X_train, y_train)\n",
    "\n",
    "    # Use model to make predictions for training set\n",
    "    y_pred = regressor.predict(X_train).flatten()\n",
    "\n",
    "    # Export data into a dataframe\n",
    "    df = pd.DataFrame({'predicted_values':y_pred, 'true_values':y_train,})\n",
    "\n",
    "    # Print data into a csv file\n",
    "    df.to_csv('forest_plus_tr_' + str(i) + '.csv')\n",
    "\n",
    "    # Use model to make predictions for the testing set\n",
    "    y_pred = regressor.predict(X_test).flatten()\n",
    "\n",
    "    # Export data into a dataframe\n",
    "    df = pd.DataFrame({'predicted_values':y_pred, 'true_values':y_test,})\n",
    "\n",
    "    # Print data to a csv file\n",
    "    df.to_csv('forestplus_ts_' + str(i) + '.csv')"
   ]
  },
  {
   "cell_type": "code",
   "execution_count": 43,
   "metadata": {},
   "outputs": [],
   "source": [
    "#Summarize results into one csv file\n",
    "ts1 = pd.read_csv('forestplus_ts_0.csv')\n",
    "ts2 = pd.read_csv('forestplus_ts_1.csv')\n",
    "ts3 = pd.read_csv('forestplus_ts_2.csv')\n",
    "ts4 = pd.read_csv('forestplus_ts_3.csv')\n",
    "ts5 = pd.read_csv('forestplus_ts_4.csv')\n",
    "\n",
    "ts6 = pd.read_csv('forestplus_ts_5.csv')\n",
    "ts7 = pd.read_csv('forestplus_ts_6.csv')\n",
    "ts8 = pd.read_csv('forestplus_ts_7.csv')\n",
    "ts9 = pd.read_csv('forestplus_ts_8.csv')\n",
    "ts10 = pd.read_csv('forestplus_ts_9.csv')\n",
    "ts11 = pd.read_csv('forestplus_ts_10.csv')\n",
    "ts12 = pd.read_csv('forestplus_ts_11.csv')\n",
    "ts13 = pd.read_csv('forestplus_ts_12.csv')\n",
    "ts14 = pd.read_csv('forestplus_ts_13.csv')\n",
    "ts15 = pd.read_csv('forestplus_ts_14.csv')\n",
    "ts16 = pd.read_csv('forestplus_ts_15.csv')\n",
    "ts17 = pd.read_csv('forestplus_ts_16.csv')\n",
    "ts18 = pd.read_csv('forestplus_ts_17.csv')\n",
    "ts19 = pd.read_csv('forestplus_ts_18.csv')\n",
    "ts20 = pd.read_csv('forestplus_ts_19.csv')\n",
    "ts21 = pd.read_csv('forestplus_ts_20.csv')\n",
    "ts22 = pd.read_csv('forestplus_ts_21.csv')\n",
    "ts23 = pd.read_csv('forestplus_ts_22.csv')\n",
    "ts24 = pd.read_csv('forestplus_ts_23.csv')\n",
    "ts25 = pd.read_csv('forestplus_ts_24.csv')\n",
    "ts = pd.concat([ts1,ts2,ts3,ts4,ts5, \n",
    "                ts6,ts7,ts8,ts9,ts10, \n",
    "                ts11,ts12,ts13,ts14,ts15,\n",
    "                ts16,ts17,ts18,ts19,ts20,\n",
    "                ts21,ts22,ts23,ts24,ts25], axis=0)\n",
    "\n",
    "tr1 = pd.read_csv('forest_plus_tr_0.csv')\n",
    "tr2 = pd.read_csv('forest_plus_tr_1.csv')\n",
    "tr3 = pd.read_csv('forest_plus_tr_2.csv')\n",
    "tr4 = pd.read_csv('forest_plus_tr_3.csv')\n",
    "tr5 = pd.read_csv('forest_plus_tr_4.csv')\n",
    "\n",
    "tr6 = pd.read_csv('forest_plus_tr_5.csv')\n",
    "tr7 = pd.read_csv('forest_plus_tr_6.csv')\n",
    "tr8 = pd.read_csv('forest_plus_tr_7.csv')\n",
    "tr9 = pd.read_csv('forest_plus_tr_8.csv')\n",
    "tr10 = pd.read_csv('forest_plus_tr_9.csv')\n",
    "tr11 = pd.read_csv('forest_plus_tr_10.csv')\n",
    "tr12 = pd.read_csv('forest_plus_tr_11.csv')\n",
    "tr13 = pd.read_csv('forest_plus_tr_12.csv')\n",
    "tr14 = pd.read_csv('forest_plus_tr_13.csv')\n",
    "tr15 = pd.read_csv('forest_plus_tr_14.csv')\n",
    "tr16 = pd.read_csv('forest_plus_tr_15.csv')\n",
    "tr17 = pd.read_csv('forest_plus_tr_16.csv')\n",
    "tr18 = pd.read_csv('forest_plus_tr_17.csv')\n",
    "tr19 = pd.read_csv('forest_plus_tr_18.csv')\n",
    "tr20 = pd.read_csv('forest_plus_tr_19.csv')\n",
    "tr21 = pd.read_csv('forest_plus_tr_20.csv')\n",
    "tr22 = pd.read_csv('forest_plus_tr_21.csv')\n",
    "tr23 = pd.read_csv('forest_plus_tr_22.csv')\n",
    "tr24 = pd.read_csv('forest_plus_tr_23.csv')\n",
    "tr25 = pd.read_csv('forest_plus_tr_24.csv')\n",
    "tr = pd.concat([tr1,tr2,tr3,tr4,tr5, \n",
    "                tr6,tr7,tr8,tr9,tr10, \n",
    "                tr11,tr12,tr13,tr14,tr15,\n",
    "                tr16,tr17,tr18,tr19,tr20,\n",
    "                tr21,tr22,tr23,tr24,tr25], axis=0)\n",
    "\n",
    "ts.to_csv('forestplus_ts.csv')\n",
    "tr.to_csv('forestplus_tr.csv')"
   ]
  },
  {
   "cell_type": "code",
   "execution_count": 44,
   "metadata": {},
   "outputs": [],
   "source": [
    "# rename with a more descriptive name \n",
    "full_test = ts\n",
    "full_train = tr"
   ]
  },
  {
   "cell_type": "code",
   "execution_count": 45,
   "metadata": {
    "scrolled": true
   },
   "outputs": [
    {
     "data": {
      "text/html": [
       "<div>\n",
       "<style scoped>\n",
       "    .dataframe tbody tr th:only-of-type {\n",
       "        vertical-align: middle;\n",
       "    }\n",
       "\n",
       "    .dataframe tbody tr th {\n",
       "        vertical-align: top;\n",
       "    }\n",
       "\n",
       "    .dataframe thead th {\n",
       "        text-align: right;\n",
       "    }\n",
       "</style>\n",
       "<table border=\"1\" class=\"dataframe\">\n",
       "  <thead>\n",
       "    <tr style=\"text-align: right;\">\n",
       "      <th></th>\n",
       "      <th>Unnamed: 0</th>\n",
       "      <th>predicted_values</th>\n",
       "      <th>true_values</th>\n",
       "    </tr>\n",
       "  </thead>\n",
       "  <tbody>\n",
       "    <tr>\n",
       "      <th>0</th>\n",
       "      <td>0</td>\n",
       "      <td>-0.397879</td>\n",
       "      <td>-0.066947</td>\n",
       "    </tr>\n",
       "    <tr>\n",
       "      <th>1</th>\n",
       "      <td>1</td>\n",
       "      <td>-0.263239</td>\n",
       "      <td>-0.322491</td>\n",
       "    </tr>\n",
       "    <tr>\n",
       "      <th>2</th>\n",
       "      <td>2</td>\n",
       "      <td>-0.276269</td>\n",
       "      <td>0.000000</td>\n",
       "    </tr>\n",
       "    <tr>\n",
       "      <th>3</th>\n",
       "      <td>3</td>\n",
       "      <td>0.705556</td>\n",
       "      <td>-0.352202</td>\n",
       "    </tr>\n",
       "    <tr>\n",
       "      <th>4</th>\n",
       "      <td>4</td>\n",
       "      <td>-0.328592</td>\n",
       "      <td>-0.490350</td>\n",
       "    </tr>\n",
       "    <tr>\n",
       "      <th>...</th>\n",
       "      <td>...</td>\n",
       "      <td>...</td>\n",
       "      <td>...</td>\n",
       "    </tr>\n",
       "    <tr>\n",
       "      <th>48</th>\n",
       "      <td>48</td>\n",
       "      <td>-0.267698</td>\n",
       "      <td>0.462398</td>\n",
       "    </tr>\n",
       "    <tr>\n",
       "      <th>49</th>\n",
       "      <td>49</td>\n",
       "      <td>-0.470420</td>\n",
       "      <td>0.531479</td>\n",
       "    </tr>\n",
       "    <tr>\n",
       "      <th>50</th>\n",
       "      <td>50</td>\n",
       "      <td>-0.346488</td>\n",
       "      <td>-0.482099</td>\n",
       "    </tr>\n",
       "    <tr>\n",
       "      <th>51</th>\n",
       "      <td>51</td>\n",
       "      <td>-0.442404</td>\n",
       "      <td>-0.300000</td>\n",
       "    </tr>\n",
       "    <tr>\n",
       "      <th>52</th>\n",
       "      <td>52</td>\n",
       "      <td>-0.003735</td>\n",
       "      <td>-1.100000</td>\n",
       "    </tr>\n",
       "  </tbody>\n",
       "</table>\n",
       "<p>1325 rows × 3 columns</p>\n",
       "</div>"
      ],
      "text/plain": [
       "    Unnamed: 0  predicted_values  true_values\n",
       "0            0         -0.397879    -0.066947\n",
       "1            1         -0.263239    -0.322491\n",
       "2            2         -0.276269     0.000000\n",
       "3            3          0.705556    -0.352202\n",
       "4            4         -0.328592    -0.490350\n",
       "..         ...               ...          ...\n",
       "48          48         -0.267698     0.462398\n",
       "49          49         -0.470420     0.531479\n",
       "50          50         -0.346488    -0.482099\n",
       "51          51         -0.442404    -0.300000\n",
       "52          52         -0.003735    -1.100000\n",
       "\n",
       "[1325 rows x 3 columns]"
      ]
     },
     "execution_count": 45,
     "metadata": {},
     "output_type": "execute_result"
    }
   ],
   "source": [
    "full_test"
   ]
  },
  {
   "cell_type": "code",
   "execution_count": 46,
   "metadata": {},
   "outputs": [],
   "source": [
    "# set up true and pred values from the test dataset \n",
    "full_y_test_true = full_test['true_values']\n",
    "full_y_test_pred = full_test['predicted_values']"
   ]
  },
  {
   "cell_type": "code",
   "execution_count": 47,
   "metadata": {},
   "outputs": [],
   "source": [
    "# set up true and pred values from the train dataset \n",
    "full_y_train_true = full_train['true_values']\n",
    "full_y_train_pred = full_train['predicted_values']"
   ]
  },
  {
   "cell_type": "code",
   "execution_count": null,
   "metadata": {},
   "outputs": [],
   "source": [
    "# plot true vs predicted values for the train set\n",
    "plt.scatter(full_y_train_true, full_y_train_pred)\n",
    "plt.xlabel('True Values')\n",
    "plt.ylabel('Predictions')\n",
    "plt.axis('equal')\n",
    "plt.xlim(plt.xlim())\n",
    "plt.ylim(plt.ylim())\n",
    "_ = plt.plot([-100, 100], [-100, 100]) # make a straight line showing 1-1 relationship \n",
    "#plt.show()\n",
    "plt.savefig('random_forest_mordred_train.png', dpi=300)"
   ]
  },
  {
   "cell_type": "code",
   "execution_count": null,
   "metadata": {},
   "outputs": [],
   "source": [
    "# plot true vs predicted values for the test set\n",
    "plt.scatter(full_y_test_true, full_y_test_pred)\n",
    "plt.xlabel('True Values')\n",
    "plt.ylabel('Predictions')\n",
    "plt.axis('equal')\n",
    "plt.xlim(plt.xlim())\n",
    "plt.ylim(plt.ylim())\n",
    "_ = plt.plot([-100, 100], [-100, 100]) # make a straight line showing 1-1 relationship \n",
    "#plt.show()\n",
    "plt.savefig('random_forest_mordred_test.png', dpi=300)"
   ]
  },
  {
   "cell_type": "code",
   "execution_count": 48,
   "metadata": {},
   "outputs": [
    {
     "name": "stdout",
     "output_type": "stream",
     "text": [
      "Train MAE: 0.15971937184918553\n"
     ]
    }
   ],
   "source": [
    "print(\"Train MAE: \" + str(mean_absolute_error(full_train['true_values'], full_train['predicted_values'])))"
   ]
  },
  {
   "cell_type": "code",
   "execution_count": 49,
   "metadata": {},
   "outputs": [
    {
     "name": "stdout",
     "output_type": "stream",
     "text": [
      "Train R2 Score: 0.9069100996022176\n"
     ]
    }
   ],
   "source": [
    "train_r = np.corrcoef(full_y_train_true, full_y_train_pred)\n",
    "print(\"Train R2 Score: \" + str(train_r[0, 1]**2))"
   ]
  },
  {
   "cell_type": "code",
   "execution_count": 50,
   "metadata": {},
   "outputs": [
    {
     "name": "stdout",
     "output_type": "stream",
     "text": [
      "Test MAE: 0.41404726165978306\n"
     ]
    }
   ],
   "source": [
    "print(\"Test MAE: \" + str(mean_absolute_error(full_test['true_values'], full_test['predicted_values'])))"
   ]
  },
  {
   "cell_type": "code",
   "execution_count": 51,
   "metadata": {},
   "outputs": [
    {
     "name": "stdout",
     "output_type": "stream",
     "text": [
      "Test R2 Score: 0.0002481724609502936\n"
     ]
    }
   ],
   "source": [
    "test_r = np.corrcoef(full_y_test_true, full_y_test_pred)\n",
    "print(\"Test R2 Score: \" + str(test_r[0, 1]**2))"
   ]
  }
 ],
 "metadata": {
  "kernelspec": {
   "display_name": "Python 3",
   "language": "python",
   "name": "python3"
  },
  "language_info": {
   "codemirror_mode": {
    "name": "ipython",
    "version": 3
   },
   "file_extension": ".py",
   "mimetype": "text/x-python",
   "name": "python",
   "nbconvert_exporter": "python",
   "pygments_lexer": "ipython3",
   "version": "3.7.9"
  }
 },
 "nbformat": 4,
 "nbformat_minor": 4
}
