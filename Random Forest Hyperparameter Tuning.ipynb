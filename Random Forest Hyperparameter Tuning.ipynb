{
 "cells": [
  {
   "cell_type": "code",
   "execution_count": null,
   "metadata": {},
   "outputs": [],
   "source": [
    "# Hyperparameter tuning for Random Forest to find the best parameters for the MC_DB dataset"
   ]
  },
  {
   "cell_type": "code",
   "execution_count": 20,
   "metadata": {},
   "outputs": [],
   "source": [
    "# Import libraries\n",
    "import pandas as pd\n",
    "import numpy as np\n",
    "from sklearn.metrics import mean_absolute_error\n",
    "from sklearn.model_selection import RandomizedSearchCV\n",
    "from sklearn.model_selection import train_test_split\n",
    "from sklearn.ensemble import RandomForestRegressor"
   ]
  },
  {
   "cell_type": "code",
   "execution_count": 2,
   "metadata": {},
   "outputs": [],
   "source": [
    "# Read dataset\n",
    "dataset = pd.read_csv('LipidAdjusted_sigOnly.csv')\n",
    "dataset = dataset.select_dtypes([np.number]) # select only the numerical columns to act as x and y values in the model"
   ]
  },
  {
   "cell_type": "code",
   "execution_count": 3,
   "metadata": {},
   "outputs": [
    {
     "data": {
      "text/html": [
       "<div>\n",
       "<style scoped>\n",
       "    .dataframe tbody tr th:only-of-type {\n",
       "        vertical-align: middle;\n",
       "    }\n",
       "\n",
       "    .dataframe tbody tr th {\n",
       "        vertical-align: top;\n",
       "    }\n",
       "\n",
       "    .dataframe thead th {\n",
       "        text-align: right;\n",
       "    }\n",
       "</style>\n",
       "<table border=\"1\" class=\"dataframe\">\n",
       "  <thead>\n",
       "    <tr style=\"text-align: right;\">\n",
       "      <th></th>\n",
       "      <th>Unnamed: 0</th>\n",
       "      <th>C:M Ratio Master</th>\n",
       "      <th>C:M Ratio Lipid Normalized</th>\n",
       "      <th>C:M Ratio Non-Lipid Normalized</th>\n",
       "      <th># Total Atoms</th>\n",
       "      <th># Atoms w/o Salt</th>\n",
       "      <th>FilterItLogS</th>\n",
       "      <th>PEOE_VSA6</th>\n",
       "      <th>EState_VSA9</th>\n",
       "      <th>SMR</th>\n",
       "      <th>...</th>\n",
       "      <th>SIC5</th>\n",
       "      <th>AATS0d</th>\n",
       "      <th>ATS3are</th>\n",
       "      <th>GATS1m</th>\n",
       "      <th>GATS1Z</th>\n",
       "      <th>ATS0s</th>\n",
       "      <th>ATSC3i</th>\n",
       "      <th>ATSC4are</th>\n",
       "      <th>BCUTdv-1h</th>\n",
       "      <th>ETA_epsilon_3</th>\n",
       "    </tr>\n",
       "  </thead>\n",
       "  <tbody>\n",
       "    <tr>\n",
       "      <th>0</th>\n",
       "      <td>0</td>\n",
       "      <td>0.001276</td>\n",
       "      <td>0.004057</td>\n",
       "      <td>0.001276</td>\n",
       "      <td>22.0</td>\n",
       "      <td>22.0</td>\n",
       "      <td>-4.689533</td>\n",
       "      <td>17.288447</td>\n",
       "      <td>15.308119</td>\n",
       "      <td>78.7144</td>\n",
       "      <td>...</td>\n",
       "      <td>0.899242</td>\n",
       "      <td>2.813953</td>\n",
       "      <td>564.9990</td>\n",
       "      <td>0.765047</td>\n",
       "      <td>0.769887</td>\n",
       "      <td>305.895833</td>\n",
       "      <td>-30.901072</td>\n",
       "      <td>-3.803187</td>\n",
       "      <td>7.014086</td>\n",
       "      <td>0.433333</td>\n",
       "    </tr>\n",
       "    <tr>\n",
       "      <th>1</th>\n",
       "      <td>1</td>\n",
       "      <td>0.012264</td>\n",
       "      <td>0.039000</td>\n",
       "      <td>0.012264</td>\n",
       "      <td>20.0</td>\n",
       "      <td>20.0</td>\n",
       "      <td>-3.609705</td>\n",
       "      <td>0.000000</td>\n",
       "      <td>4.736863</td>\n",
       "      <td>75.7646</td>\n",
       "      <td>...</td>\n",
       "      <td>0.895175</td>\n",
       "      <td>3.277778</td>\n",
       "      <td>501.2720</td>\n",
       "      <td>0.867692</td>\n",
       "      <td>0.883020</td>\n",
       "      <td>215.243913</td>\n",
       "      <td>-3.016147</td>\n",
       "      <td>-2.116486</td>\n",
       "      <td>6.017822</td>\n",
       "      <td>0.437931</td>\n",
       "    </tr>\n",
       "    <tr>\n",
       "      <th>2</th>\n",
       "      <td>2</td>\n",
       "      <td>0.019018</td>\n",
       "      <td>0.060477</td>\n",
       "      <td>0.019018</td>\n",
       "      <td>20.0</td>\n",
       "      <td>20.0</td>\n",
       "      <td>-3.562566</td>\n",
       "      <td>31.395199</td>\n",
       "      <td>4.736863</td>\n",
       "      <td>82.3238</td>\n",
       "      <td>...</td>\n",
       "      <td>0.822785</td>\n",
       "      <td>2.702128</td>\n",
       "      <td>714.8040</td>\n",
       "      <td>1.060515</td>\n",
       "      <td>1.054556</td>\n",
       "      <td>129.645833</td>\n",
       "      <td>-22.574335</td>\n",
       "      <td>0.554080</td>\n",
       "      <td>6.007457</td>\n",
       "      <td>0.437931</td>\n",
       "    </tr>\n",
       "    <tr>\n",
       "      <th>3</th>\n",
       "      <td>3</td>\n",
       "      <td>0.019040</td>\n",
       "      <td>0.060546</td>\n",
       "      <td>0.019040</td>\n",
       "      <td>54.0</td>\n",
       "      <td>54.0</td>\n",
       "      <td>-9.071417</td>\n",
       "      <td>74.511145</td>\n",
       "      <td>9.473726</td>\n",
       "      <td>212.5451</td>\n",
       "      <td>...</td>\n",
       "      <td>0.891501</td>\n",
       "      <td>3.000000</td>\n",
       "      <td>1580.0348</td>\n",
       "      <td>0.812148</td>\n",
       "      <td>0.807016</td>\n",
       "      <td>390.423525</td>\n",
       "      <td>-25.848412</td>\n",
       "      <td>-2.334104</td>\n",
       "      <td>6.029305</td>\n",
       "      <td>0.440260</td>\n",
       "    </tr>\n",
       "    <tr>\n",
       "      <th>4</th>\n",
       "      <td>4</td>\n",
       "      <td>0.026178</td>\n",
       "      <td>0.083246</td>\n",
       "      <td>0.026178</td>\n",
       "      <td>24.0</td>\n",
       "      <td>24.0</td>\n",
       "      <td>-5.802049</td>\n",
       "      <td>18.199101</td>\n",
       "      <td>9.998755</td>\n",
       "      <td>90.9140</td>\n",
       "      <td>...</td>\n",
       "      <td>0.896777</td>\n",
       "      <td>3.266667</td>\n",
       "      <td>654.7130</td>\n",
       "      <td>0.783113</td>\n",
       "      <td>0.782584</td>\n",
       "      <td>203.951389</td>\n",
       "      <td>-13.861326</td>\n",
       "      <td>-1.324305</td>\n",
       "      <td>7.004057</td>\n",
       "      <td>0.441176</td>\n",
       "    </tr>\n",
       "  </tbody>\n",
       "</table>\n",
       "<p>5 rows × 460 columns</p>\n",
       "</div>"
      ],
      "text/plain": [
       "   Unnamed: 0  C:M Ratio Master  C:M Ratio Lipid Normalized  \\\n",
       "0           0          0.001276                    0.004057   \n",
       "1           1          0.012264                    0.039000   \n",
       "2           2          0.019018                    0.060477   \n",
       "3           3          0.019040                    0.060546   \n",
       "4           4          0.026178                    0.083246   \n",
       "\n",
       "   C:M Ratio Non-Lipid Normalized  # Total Atoms  # Atoms w/o Salt  \\\n",
       "0                        0.001276           22.0              22.0   \n",
       "1                        0.012264           20.0              20.0   \n",
       "2                        0.019018           20.0              20.0   \n",
       "3                        0.019040           54.0              54.0   \n",
       "4                        0.026178           24.0              24.0   \n",
       "\n",
       "   FilterItLogS  PEOE_VSA6  EState_VSA9       SMR  ...      SIC5    AATS0d  \\\n",
       "0     -4.689533  17.288447    15.308119   78.7144  ...  0.899242  2.813953   \n",
       "1     -3.609705   0.000000     4.736863   75.7646  ...  0.895175  3.277778   \n",
       "2     -3.562566  31.395199     4.736863   82.3238  ...  0.822785  2.702128   \n",
       "3     -9.071417  74.511145     9.473726  212.5451  ...  0.891501  3.000000   \n",
       "4     -5.802049  18.199101     9.998755   90.9140  ...  0.896777  3.266667   \n",
       "\n",
       "     ATS3are    GATS1m    GATS1Z       ATS0s     ATSC3i  ATSC4are  BCUTdv-1h  \\\n",
       "0   564.9990  0.765047  0.769887  305.895833 -30.901072 -3.803187   7.014086   \n",
       "1   501.2720  0.867692  0.883020  215.243913  -3.016147 -2.116486   6.017822   \n",
       "2   714.8040  1.060515  1.054556  129.645833 -22.574335  0.554080   6.007457   \n",
       "3  1580.0348  0.812148  0.807016  390.423525 -25.848412 -2.334104   6.029305   \n",
       "4   654.7130  0.783113  0.782584  203.951389 -13.861326 -1.324305   7.004057   \n",
       "\n",
       "   ETA_epsilon_3  \n",
       "0       0.433333  \n",
       "1       0.437931  \n",
       "2       0.437931  \n",
       "3       0.440260  \n",
       "4       0.441176  \n",
       "\n",
       "[5 rows x 460 columns]"
      ]
     },
     "execution_count": 3,
     "metadata": {},
     "output_type": "execute_result"
    }
   ],
   "source": [
    "dataset.head()"
   ]
  },
  {
   "cell_type": "code",
   "execution_count": 4,
   "metadata": {},
   "outputs": [],
   "source": [
    "# drop values that have 0 as the ratio\n",
    "dataset = dataset[dataset['C:M Ratio Lipid Normalized'] != 0]"
   ]
  },
  {
   "cell_type": "code",
   "execution_count": 5,
   "metadata": {},
   "outputs": [],
   "source": [
    "dataset['C:M Ratio Lipid Normalized'] = dataset['C:M Ratio Lipid Normalized'].replace(0, 0.01) # replace 0 with 0.01\n",
    "dataset['logCM'] = np.log10(dataset['C:M Ratio Lipid Normalized'])"
   ]
  },
  {
   "cell_type": "code",
   "execution_count": 6,
   "metadata": {},
   "outputs": [
    {
     "data": {
      "text/plain": [
       "(264, 461)"
      ]
     },
     "execution_count": 6,
     "metadata": {},
     "output_type": "execute_result"
    }
   ],
   "source": [
    "dataset.shape"
   ]
  },
  {
   "cell_type": "code",
   "execution_count": 7,
   "metadata": {},
   "outputs": [],
   "source": [
    "X = dataset.loc[:, 'FilterItLogS':'mZagreb2'].values # select the x values \n",
    "y = dataset.loc[:, 'logCM'].values # select the y values for the model "
   ]
  },
  {
   "cell_type": "code",
   "execution_count": 9,
   "metadata": {},
   "outputs": [],
   "source": [
    "# Number of trees in random forest\n",
    "n_estimators = [int(x) for x in np.linspace(start = 200, stop = 2000, num = 10)]\n",
    "# Number of features to consider at every split\n",
    "max_features = ['auto', 'sqrt']\n",
    "# Maximum number of levels in tree\n",
    "max_depth = [int(x) for x in np.linspace(10, 110, num = 11)]\n",
    "max_depth.append(None)\n",
    "# Minimum number of samples required to split a node\n",
    "min_samples_split = [2, 5, 10]\n",
    "# Minimum number of samples required at each leaf node\n",
    "min_samples_leaf = [1, 2, 4]\n",
    "# Method of selecting samples for training each tree\n",
    "bootstrap = [True, False]# Create the random grid\n",
    "random_grid = {'n_estimators': n_estimators,\n",
    "               'max_features': max_features,\n",
    "               'max_depth': max_depth,\n",
    "               'min_samples_split': min_samples_split,\n",
    "               'min_samples_leaf': min_samples_leaf,\n",
    "               'bootstrap': bootstrap}"
   ]
  },
  {
   "cell_type": "code",
   "execution_count": 16,
   "metadata": {
    "scrolled": true
   },
   "outputs": [
    {
     "name": "stdout",
     "output_type": "stream",
     "text": [
      "{'n_estimators': [200, 400, 600, 800, 1000, 1200, 1400, 1600, 1800, 2000], 'max_features': ['auto', 'sqrt'], 'max_depth': [10, 20, 30, 40, 50, 60, 70, 80, 90, 100, 110, None], 'min_samples_split': [2, 5, 10], 'min_samples_leaf': [1, 2, 4], 'bootstrap': [True, False]}\n"
     ]
    }
   ],
   "source": [
    "print(random_grid)"
   ]
  },
  {
   "cell_type": "code",
   "execution_count": 25,
   "metadata": {
    "scrolled": true
   },
   "outputs": [
    {
     "name": "stdout",
     "output_type": "stream",
     "text": [
      "Fitting 3 folds for each of 100 candidates, totalling 300 fits\n"
     ]
    },
    {
     "name": "stderr",
     "output_type": "stream",
     "text": [
      "[Parallel(n_jobs=-1)]: Using backend LokyBackend with 12 concurrent workers.\n",
      "[Parallel(n_jobs=-1)]: Done  17 tasks      | elapsed:    4.4s\n",
      "[Parallel(n_jobs=-1)]: Done 138 tasks      | elapsed:   38.1s\n",
      "[Parallel(n_jobs=-1)]: Done 300 out of 300 | elapsed:  1.5min finished\n"
     ]
    },
    {
     "data": {
      "text/plain": [
       "RandomizedSearchCV(cv=3, estimator=RandomForestRegressor(), n_iter=100,\n",
       "                   n_jobs=-1,\n",
       "                   param_distributions={'bootstrap': [True, False],\n",
       "                                        'max_depth': [10, 20, 30, 40, 50, 60,\n",
       "                                                      70, 80, 90, 100, 110,\n",
       "                                                      None],\n",
       "                                        'max_features': ['auto', 'sqrt'],\n",
       "                                        'min_samples_leaf': [1, 2, 4],\n",
       "                                        'min_samples_split': [2, 5, 10],\n",
       "                                        'n_estimators': [200, 400, 600, 800,\n",
       "                                                         1000, 1200, 1400, 1600,\n",
       "                                                         1800, 2000]},\n",
       "                   random_state=42, verbose=2)"
      ]
     },
     "execution_count": 25,
     "metadata": {},
     "output_type": "execute_result"
    }
   ],
   "source": [
    "train_features, test_features, train_labels, test_labels = train_test_split(X, y, test_size=0.2, random_state = 42)\n",
    "# Use the random grid to search for best hyperparameters\n",
    "# First create the base model to tune\n",
    "rf = RandomForestRegressor()\n",
    "# Random search of parameters, using 3 fold cross validation, \n",
    "# search across 100 different combinations, and use all available cores\n",
    "rf_random = RandomizedSearchCV(estimator = rf, param_distributions = random_grid, n_iter = 100, cv = 3, \n",
    "                               verbose=2, random_state=42, n_jobs = -1)# Fit the random search model\n",
    "rf_random.fit(train_features, train_labels)"
   ]
  },
  {
   "cell_type": "code",
   "execution_count": 26,
   "metadata": {},
   "outputs": [
    {
     "data": {
      "text/plain": [
       "{'n_estimators': 1600,\n",
       " 'min_samples_split': 2,\n",
       " 'min_samples_leaf': 4,\n",
       " 'max_features': 'sqrt',\n",
       " 'max_depth': 10,\n",
       " 'bootstrap': True}"
      ]
     },
     "execution_count": 26,
     "metadata": {},
     "output_type": "execute_result"
    }
   ],
   "source": [
    "rf_random.best_params_"
   ]
  },
  {
   "cell_type": "code",
   "execution_count": 34,
   "metadata": {},
   "outputs": [],
   "source": [
    "regressor = RandomForestRegressor(n_estimators= 1600,\n",
    "                                 min_samples_split= 2,\n",
    "                                 min_samples_leaf= 4,\n",
    "                                 max_features= 'sqrt',\n",
    "                                 max_depth= 10,\n",
    "                                 bootstrap= True)"
   ]
  }
 ],
 "metadata": {
  "kernelspec": {
   "display_name": "Python 3",
   "language": "python",
   "name": "python3"
  },
  "language_info": {
   "codemirror_mode": {
    "name": "ipython",
    "version": 3
   },
   "file_extension": ".py",
   "mimetype": "text/x-python",
   "name": "python",
   "nbconvert_exporter": "python",
   "pygments_lexer": "ipython3",
   "version": "3.7.9"
  }
 },
 "nbformat": 4,
 "nbformat_minor": 4
}
