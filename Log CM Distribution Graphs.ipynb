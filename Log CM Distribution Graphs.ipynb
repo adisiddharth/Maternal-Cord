{
 "cells": [
  {
   "cell_type": "code",
   "execution_count": null,
   "metadata": {},
   "outputs": [],
   "source": [
    "# Plot the distribution of Log CM Lipid normalized and\n",
    "# non-lipid normalized for the chemicals in our database"
   ]
  },
  {
   "cell_type": "code",
   "execution_count": 1,
   "metadata": {},
   "outputs": [],
   "source": [
    "import pandas as pd\n",
    "import matplotlib.pyplot as plt\n",
    "import numpy as np"
   ]
  },
  {
   "cell_type": "code",
   "execution_count": 4,
   "metadata": {},
   "outputs": [],
   "source": [
    "df = pd.read_csv('df_modred_new_chems.csv')"
   ]
  },
  {
   "cell_type": "code",
   "execution_count": 5,
   "metadata": {},
   "outputs": [
    {
     "data": {
      "text/html": [
       "<div>\n",
       "<style scoped>\n",
       "    .dataframe tbody tr th:only-of-type {\n",
       "        vertical-align: middle;\n",
       "    }\n",
       "\n",
       "    .dataframe tbody tr th {\n",
       "        vertical-align: top;\n",
       "    }\n",
       "\n",
       "    .dataframe thead th {\n",
       "        text-align: right;\n",
       "    }\n",
       "</style>\n",
       "<table border=\"1\" class=\"dataframe\">\n",
       "  <thead>\n",
       "    <tr style=\"text-align: right;\">\n",
       "      <th></th>\n",
       "      <th>chem_category</th>\n",
       "      <th>chem_name</th>\n",
       "      <th>INCHIKEY</th>\n",
       "      <th>OCTANOL_WATER_PARTITION_LOGP_OPERA_PRED</th>\n",
       "      <th>C:M Ratio Master</th>\n",
       "      <th>C:M Ratio Lipid Normalized</th>\n",
       "      <th>Log C:M Ratio Lipid Normalized</th>\n",
       "      <th>C:M Ratio Non-Lipid Normalized</th>\n",
       "      <th>Log C:M Ratio Non-Lipid Normalized</th>\n",
       "      <th>SMILES</th>\n",
       "      <th>...</th>\n",
       "      <th>SRW10</th>\n",
       "      <th>TSRW10</th>\n",
       "      <th>MW</th>\n",
       "      <th>AMW</th>\n",
       "      <th>WPath</th>\n",
       "      <th>WPol</th>\n",
       "      <th>Zagreb1</th>\n",
       "      <th>Zagreb2</th>\n",
       "      <th>mZagreb1</th>\n",
       "      <th>mZagreb2</th>\n",
       "    </tr>\n",
       "  </thead>\n",
       "  <tbody>\n",
       "    <tr>\n",
       "      <th>0</th>\n",
       "      <td>Amine Co-initiators</td>\n",
       "      <td>4,4'-Bis(dimethylamino)benzophenone</td>\n",
       "      <td>VVBLNCFGVYUYGU-UHFFFAOYSA-N</td>\n",
       "      <td>3.86903</td>\n",
       "      <td>0.710000</td>\n",
       "      <td>2.257800</td>\n",
       "      <td>0.353685</td>\n",
       "      <td>0.710000</td>\n",
       "      <td>-0.148742</td>\n",
       "      <td>CN(C)C1=CC=C(C=C1)C(=O)C1=CC=C(C=C1)N(C)C</td>\n",
       "      <td>...</td>\n",
       "      <td>9.768984</td>\n",
       "      <td>53.323569</td>\n",
       "      <td>268.157563</td>\n",
       "      <td>6.703939</td>\n",
       "      <td>899</td>\n",
       "      <td>30</td>\n",
       "      <td>100</td>\n",
       "      <td>115</td>\n",
       "      <td>7.777778</td>\n",
       "      <td>4.444444</td>\n",
       "    </tr>\n",
       "    <tr>\n",
       "      <th>1</th>\n",
       "      <td>Amine Co-initiators</td>\n",
       "      <td>Ethyl-4-dimethylaminobenzoate</td>\n",
       "      <td>FZUGPQWGEGAKET-UHFFFAOYSA-N</td>\n",
       "      <td>2.98359</td>\n",
       "      <td>0.923077</td>\n",
       "      <td>2.935385</td>\n",
       "      <td>0.467665</td>\n",
       "      <td>0.923077</td>\n",
       "      <td>-0.034762</td>\n",
       "      <td>CCOC(=O)C1=CC=C(C=C1)N(C)C</td>\n",
       "      <td>...</td>\n",
       "      <td>9.182866</td>\n",
       "      <td>44.834790</td>\n",
       "      <td>193.110279</td>\n",
       "      <td>6.658975</td>\n",
       "      <td>331</td>\n",
       "      <td>18</td>\n",
       "      <td>64</td>\n",
       "      <td>71</td>\n",
       "      <td>5.944444</td>\n",
       "      <td>3.305556</td>\n",
       "    </tr>\n",
       "    <tr>\n",
       "      <th>2</th>\n",
       "      <td>Amine Co-initiators</td>\n",
       "      <td>2-Ethylhexyl 4-(dimethylamino)benzoate</td>\n",
       "      <td>WYWZRNAHINYAEF-UHFFFAOYSA-N</td>\n",
       "      <td>3.86294</td>\n",
       "      <td>1.062500</td>\n",
       "      <td>3.378750</td>\n",
       "      <td>0.528756</td>\n",
       "      <td>1.062500</td>\n",
       "      <td>0.026329</td>\n",
       "      <td>CCCCC(CC)COC(=O)C1=CC=C(C=C1)N(C)C</td>\n",
       "      <td>...</td>\n",
       "      <td>9.435163</td>\n",
       "      <td>52.355966</td>\n",
       "      <td>277.204179</td>\n",
       "      <td>5.897961</td>\n",
       "      <td>970</td>\n",
       "      <td>26</td>\n",
       "      <td>90</td>\n",
       "      <td>99</td>\n",
       "      <td>8.055556</td>\n",
       "      <td>4.805556</td>\n",
       "    </tr>\n",
       "    <tr>\n",
       "      <th>3</th>\n",
       "      <td>Amine Co-initiators</td>\n",
       "      <td>4,4'-Bis(diethylamino)benzophenone</td>\n",
       "      <td>VYHBFRJRBHMIQZ-UHFFFAOYSA-N</td>\n",
       "      <td>3.93021</td>\n",
       "      <td>11.888889</td>\n",
       "      <td>37.806667</td>\n",
       "      <td>1.577568</td>\n",
       "      <td>11.888889</td>\n",
       "      <td>1.075141</td>\n",
       "      <td>CCN(CC)C1=CC=C(C=C1)C(=O)C1=CC=C(C=C1)N(CC)CC</td>\n",
       "      <td>...</td>\n",
       "      <td>9.913982</td>\n",
       "      <td>58.055175</td>\n",
       "      <td>324.220163</td>\n",
       "      <td>6.235003</td>\n",
       "      <td>1535</td>\n",
       "      <td>38</td>\n",
       "      <td>116</td>\n",
       "      <td>135</td>\n",
       "      <td>8.777778</td>\n",
       "      <td>5.777778</td>\n",
       "    </tr>\n",
       "    <tr>\n",
       "      <th>4</th>\n",
       "      <td>Amine Co-initiators</td>\n",
       "      <td>Ethyl-4-aminobenzoate</td>\n",
       "      <td>BLFLLBZGZJTVJG-UHFFFAOYSA-N</td>\n",
       "      <td>1.85996</td>\n",
       "      <td>56.275862</td>\n",
       "      <td>178.957241</td>\n",
       "      <td>2.252749</td>\n",
       "      <td>56.275862</td>\n",
       "      <td>1.750322</td>\n",
       "      <td>CCOC(=O)C1=CC=C(N)C=C1</td>\n",
       "      <td>...</td>\n",
       "      <td>8.952217</td>\n",
       "      <td>41.876660</td>\n",
       "      <td>165.078979</td>\n",
       "      <td>7.177347</td>\n",
       "      <td>211</td>\n",
       "      <td>14</td>\n",
       "      <td>54</td>\n",
       "      <td>59</td>\n",
       "      <td>4.833333</td>\n",
       "      <td>2.861111</td>\n",
       "    </tr>\n",
       "  </tbody>\n",
       "</table>\n",
       "<p>5 rows × 1840 columns</p>\n",
       "</div>"
      ],
      "text/plain": [
       "         chem_category                               chem_name  \\\n",
       "0  Amine Co-initiators     4,4'-Bis(dimethylamino)benzophenone   \n",
       "1  Amine Co-initiators           Ethyl-4-dimethylaminobenzoate   \n",
       "2  Amine Co-initiators  2-Ethylhexyl 4-(dimethylamino)benzoate   \n",
       "3  Amine Co-initiators      4,4'-Bis(diethylamino)benzophenone   \n",
       "4  Amine Co-initiators                   Ethyl-4-aminobenzoate   \n",
       "\n",
       "                      INCHIKEY  OCTANOL_WATER_PARTITION_LOGP_OPERA_PRED  \\\n",
       "0  VVBLNCFGVYUYGU-UHFFFAOYSA-N                                  3.86903   \n",
       "1  FZUGPQWGEGAKET-UHFFFAOYSA-N                                  2.98359   \n",
       "2  WYWZRNAHINYAEF-UHFFFAOYSA-N                                  3.86294   \n",
       "3  VYHBFRJRBHMIQZ-UHFFFAOYSA-N                                  3.93021   \n",
       "4  BLFLLBZGZJTVJG-UHFFFAOYSA-N                                  1.85996   \n",
       "\n",
       "   C:M Ratio Master  C:M Ratio Lipid Normalized  \\\n",
       "0          0.710000                    2.257800   \n",
       "1          0.923077                    2.935385   \n",
       "2          1.062500                    3.378750   \n",
       "3         11.888889                   37.806667   \n",
       "4         56.275862                  178.957241   \n",
       "\n",
       "   Log C:M Ratio Lipid Normalized  C:M Ratio Non-Lipid Normalized  \\\n",
       "0                        0.353685                        0.710000   \n",
       "1                        0.467665                        0.923077   \n",
       "2                        0.528756                        1.062500   \n",
       "3                        1.577568                       11.888889   \n",
       "4                        2.252749                       56.275862   \n",
       "\n",
       "   Log C:M Ratio Non-Lipid Normalized  \\\n",
       "0                           -0.148742   \n",
       "1                           -0.034762   \n",
       "2                            0.026329   \n",
       "3                            1.075141   \n",
       "4                            1.750322   \n",
       "\n",
       "                                          SMILES  ...     SRW10     TSRW10  \\\n",
       "0      CN(C)C1=CC=C(C=C1)C(=O)C1=CC=C(C=C1)N(C)C  ...  9.768984  53.323569   \n",
       "1                     CCOC(=O)C1=CC=C(C=C1)N(C)C  ...  9.182866  44.834790   \n",
       "2             CCCCC(CC)COC(=O)C1=CC=C(C=C1)N(C)C  ...  9.435163  52.355966   \n",
       "3  CCN(CC)C1=CC=C(C=C1)C(=O)C1=CC=C(C=C1)N(CC)CC  ...  9.913982  58.055175   \n",
       "4                         CCOC(=O)C1=CC=C(N)C=C1  ...  8.952217  41.876660   \n",
       "\n",
       "           MW       AMW  WPath  WPol  Zagreb1  Zagreb2  mZagreb1  mZagreb2  \n",
       "0  268.157563  6.703939    899    30      100      115  7.777778  4.444444  \n",
       "1  193.110279  6.658975    331    18       64       71  5.944444  3.305556  \n",
       "2  277.204179  5.897961    970    26       90       99  8.055556  4.805556  \n",
       "3  324.220163  6.235003   1535    38      116      135  8.777778  5.777778  \n",
       "4  165.078979  7.177347    211    14       54       59  4.833333  2.861111  \n",
       "\n",
       "[5 rows x 1840 columns]"
      ]
     },
     "execution_count": 5,
     "metadata": {},
     "output_type": "execute_result"
    }
   ],
   "source": [
    "df.head()"
   ]
  },
  {
   "cell_type": "code",
   "execution_count": 7,
   "metadata": {},
   "outputs": [],
   "source": [
    "log_CM_norm = df['Log C:M Ratio Lipid Normalized']\n",
    "log_CM_non_norm = df['Log C:M Ratio Non-Lipid Normalized']"
   ]
  },
  {
   "cell_type": "code",
   "execution_count": 6,
   "metadata": {},
   "outputs": [
    {
     "name": "stdout",
     "output_type": "stream",
     "text": [
      "3.256214390258712\n",
      "1.0236663796401517\n"
     ]
    }
   ],
   "source": [
    "# mean of C:M\n",
    "print(np.mean(df['C:M Ratio Lipid Normalized']))\n",
    "print(np.mean(df['C:M Ratio Non-Lipid Normalized']))"
   ]
  },
  {
   "cell_type": "code",
   "execution_count": 7,
   "metadata": {},
   "outputs": [
    {
     "name": "stdout",
     "output_type": "stream",
     "text": [
      "0.17670628294077012\n",
      "-0.3263054737153111\n"
     ]
    }
   ],
   "source": [
    "# mean of log C:M\n",
    "print(np.mean(log_CM_norm))\n",
    "print(np.mean(log_CM_non_norm))"
   ]
  },
  {
   "cell_type": "code",
   "execution_count": 8,
   "metadata": {
    "scrolled": true
   },
   "outputs": [
    {
     "name": "stdout",
     "output_type": "stream",
     "text": [
      "11.592365364865673\n",
      "3.6454637853014353\n"
     ]
    }
   ],
   "source": [
    "# std dev of C:M\n",
    "print(np.std(df['C:M Ratio Lipid Normalized']))\n",
    "print(np.std(df['C:M Ratio Non-Lipid Normalized']))"
   ]
  },
  {
   "cell_type": "code",
   "execution_count": 9,
   "metadata": {
    "scrolled": true
   },
   "outputs": [
    {
     "name": "stdout",
     "output_type": "stream",
     "text": [
      "0.5043184284589328\n",
      "0.5046970107850204\n"
     ]
    }
   ],
   "source": [
    "# std dev of log C:M\n",
    "print(np.std(log_CM_norm))\n",
    "print(np.std(log_CM_non_norm))"
   ]
  },
  {
   "cell_type": "code",
   "execution_count": 10,
   "metadata": {
    "scrolled": true
   },
   "outputs": [
    {
     "name": "stdout",
     "output_type": "stream",
     "text": [
      "0.004057416\n",
      "0.001275917\n"
     ]
    }
   ],
   "source": [
    "# min of C:M\n",
    "print(np.min(df['C:M Ratio Lipid Normalized']))\n",
    "print(np.min(df['C:M Ratio Non-Lipid Normalized']))"
   ]
  },
  {
   "cell_type": "code",
   "execution_count": 11,
   "metadata": {
    "scrolled": true
   },
   "outputs": [
    {
     "name": "stdout",
     "output_type": "stream",
     "text": [
      "-2.3917504625341652\n",
      "-2.8941775760963657\n"
     ]
    }
   ],
   "source": [
    "# min of log C:M\n",
    "print(np.min(log_CM_norm))\n",
    "print(np.min(log_CM_non_norm))"
   ]
  },
  {
   "cell_type": "code",
   "execution_count": 12,
   "metadata": {
    "scrolled": true
   },
   "outputs": [
    {
     "name": "stdout",
     "output_type": "stream",
     "text": [
      "178.9572414\n",
      "56.27586207\n"
     ]
    }
   ],
   "source": [
    "# max of C:M\n",
    "print(np.max(df['C:M Ratio Lipid Normalized']))\n",
    "print(np.max(df['C:M Ratio Non-Lipid Normalized']))"
   ]
  },
  {
   "cell_type": "code",
   "execution_count": 13,
   "metadata": {},
   "outputs": [
    {
     "name": "stdout",
     "output_type": "stream",
     "text": [
      "2.2527492765535286\n",
      "1.7503221565268696\n"
     ]
    }
   ],
   "source": [
    "# max of log C:M\n",
    "print(np.max(log_CM_norm))\n",
    "print(np.max(log_CM_non_norm))"
   ]
  },
  {
   "cell_type": "code",
   "execution_count": 14,
   "metadata": {
    "scrolled": true
   },
   "outputs": [
    {
     "name": "stdout",
     "output_type": "stream",
     "text": [
      "178.953183984\n",
      "56.274586153\n"
     ]
    }
   ],
   "source": [
    "# range of C:M\n",
    "print(np.max(df['C:M Ratio Lipid Normalized']) - np.min(df['C:M Ratio Lipid Normalized']))\n",
    "print(np.max(df['C:M Ratio Non-Lipid Normalized']) - np.min(df['C:M Ratio Non-Lipid Normalized']))"
   ]
  },
  {
   "cell_type": "code",
   "execution_count": 16,
   "metadata": {},
   "outputs": [
    {
     "name": "stdout",
     "output_type": "stream",
     "text": [
      "4.644499739087694\n",
      "4.644499732623236\n"
     ]
    }
   ],
   "source": [
    "# range of log C:M\n",
    "print(np.max(log_CM_norm) - np.min(log_CM_norm))\n",
    "print(np.max(log_CM_non_norm) - np.min(log_CM_non_norm))"
   ]
  },
  {
   "cell_type": "code",
   "execution_count": 17,
   "metadata": {
    "scrolled": true
   },
   "outputs": [
    {
     "name": "stdout",
     "output_type": "stream",
     "text": [
      "1.769537222\n",
      "0.556458246\n"
     ]
    }
   ],
   "source": [
    "# max of C:M\n",
    "print(np.median(df['C:M Ratio Lipid Normalized']))\n",
    "print(np.median(df['C:M Ratio Non-Lipid Normalized']))"
   ]
  },
  {
   "cell_type": "code",
   "execution_count": 18,
   "metadata": {},
   "outputs": [
    {
     "name": "stdout",
     "output_type": "stream",
     "text": [
      "0.24785851087491684\n",
      "-0.254568609041175\n"
     ]
    }
   ],
   "source": [
    "# max of log C:M\n",
    "print(np.median(log_CM_norm))\n",
    "print(np.median(log_CM_non_norm))"
   ]
  },
  {
   "cell_type": "code",
   "execution_count": 11,
   "metadata": {},
   "outputs": [
    {
     "data": {
      "image/png": "[encoded data removed]",
      "text/plain": [
       "<Figure size 432x288 with 1 Axes>"
      ]
     },
     "metadata": {
      "needs_background": "light"
     },
     "output_type": "display_data"
    }
   ],
   "source": [
    "plt.hist(log_CM_norm, bins = 20, edgecolor='black')  # `density=False` would make counts\n",
    "plt.xlabel('log CM Lipid Adjusted')\n",
    "plt.ylabel('Count')\n",
    "plt.axvline(0.26, color='k', linestyle='dashed', linewidth=1)\n",
    "plt.axvline(-0.26, color='k', linestyle='dashed', linewidth=1)\n",
    "plt.savefig('log CM Lipid Adjusted Distribution with error bars.png', dpi = 300)"
   ]
  },
  {
   "cell_type": "code",
   "execution_count": 12,
   "metadata": {},
   "outputs": [
    {
     "data": {
      "image/png": "[encoded data removed]",
      "text/plain": [
       "<Figure size 432x288 with 1 Axes>"
      ]
     },
     "metadata": {
      "needs_background": "light"
     },
     "output_type": "display_data"
    }
   ],
   "source": [
    "plt.hist(log_CM_non_norm, bins=20, edgecolor='black')  # `density=False` would make counts\n",
    "plt.xlabel('log CM Non-Lipid Adjusted')\n",
    "plt.ylabel('Count')\n",
    "plt.axvline(0.26, color='k', linestyle='dashed', linewidth=1)\n",
    "plt.axvline(-0.26, color='k', linestyle='dashed', linewidth=1)\n",
    "plt.savefig('log CM Non-Lipid Adjusted Distribution with error bars.png', dpi = 300)"
   ]
  },
  {
   "cell_type": "code",
   "execution_count": null,
   "metadata": {},
   "outputs": [],
   "source": []
  }
 ],
 "metadata": {
  "kernelspec": {
   "display_name": "Python 3",
   "language": "python",
   "name": "python3"
  },
  "language_info": {
   "codemirror_mode": {
    "name": "ipython",
    "version": 3
   },
   "file_extension": ".py",
   "mimetype": "text/x-python",
   "name": "python",
   "nbconvert_exporter": "python",
   "pygments_lexer": "ipython3",
   "version": "3.7.9"
  }
 },
 "nbformat": 4,
 "nbformat_minor": 4
}
